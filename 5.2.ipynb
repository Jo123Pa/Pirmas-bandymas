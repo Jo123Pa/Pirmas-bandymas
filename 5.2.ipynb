{
 "cells": [
  {
   "cell_type": "code",
   "execution_count": null,
   "metadata": {},
   "outputs": [],
   "source": [
    "# Sukurti programą, kuri:\n",
    "# Leistų vartotojui įvesti norimą eilučių kiekį\n",
    "# Įrašytų įvestą tekstą atskiromis eilutėmis į failą\n",
    "# Leistų vartotojui įrašyti norimą kuriamo failo pavadinimą\n",
    "# Patarimai:\n",
    "\n",
    "# Sukurti while ciklą, kuris užsibaigtų tik įvedus vartotojui tuščią eilutę (nuspaudus ENTER)"
   ]
  },
  {
   "cell_type": "code",
   "execution_count": 1,
   "metadata": {},
   "outputs": [],
   "source": [
    "def teksto_kurimas(norimas_eiluciu_kiekis):\n",
    "\n",
    "    rasomu_eiluciu_kiekis = 0\n",
    "    eilutes_numeris = 1\n",
    "    tekstas = ''\n",
    "    liko_eiluciu = norimas_eiluciu_kiekis - 1\n",
    "\n",
    "    while rasomu_eiluciu_kiekis < norimas_eiluciu_kiekis:\n",
    "        ivestas_tekstas = input(f'Rasykite teksta, jums liko eiluciu {liko_eiluciu} ')\n",
    "        ivestas_tekstas = ivestas_tekstas + '\\n' \n",
    "        tekstas += str(eilutes_numeris) + ' ' + ivestas_tekstas\n",
    "        rasomu_eiluciu_kiekis +=1\n",
    "        eilutes_numeris +=1\n",
    "        liko_eiluciu -= 1\n",
    "    return tekstas\n"
   ]
  },
  {
   "cell_type": "code",
   "execution_count": 5,
   "metadata": {},
   "outputs": [],
   "source": [
    "\n",
    "def teksto_saugojimas(tekstas):\n",
    "\n",
    "    failo_pavadinimas = input('Iveskite failo pavadinima ')\n",
    "    ch_dir = os.chdir('/Users/jonaspaliauka/Desktop/Naujas Katalogas/')\n",
    "    \n",
    "    with open (failo_pavadinimas + '.txt', 'w') as f:\n",
    "        f.write(tekstas)\n",
    "\n",
    "    print(f'Jusu tekstas issaugotas sekmingai, failo pavadinimas {failo_pavadinimas}')"
   ]
  },
  {
   "cell_type": "code",
   "execution_count": 18,
   "metadata": {},
   "outputs": [],
   "source": [
    "def main():\n",
    "\n",
    "    norimas_eiluciu_kiekis = int(input('Iveskite, norimą eilučių kiekį '))\n",
    "    norimas_eiluciu_kiekis = int(norimas_eiluciu_kiekis)\n",
    "    irasomas_tekstas = teksto_kurimas(norimas_eiluciu_kiekis)\n",
    "    teksto_saugojimas(irasomas_tekstas)\n",
    "    print(f' Tekstas\\n{irasomas_tekstas}')\n",
    "    "
   ]
  },
  {
   "cell_type": "code",
   "execution_count": 20,
   "metadata": {},
   "outputs": [
    {
     "name": "stdout",
     "output_type": "stream",
     "text": [
      "Iveskite, norimą eilučių kiekį 3\n",
      "Rasykite teksta, jums liko eiluciu 2 sveki\n",
      "Rasykite teksta, jums liko eiluciu 1 Laba diena\n",
      "Rasykite teksta, jums liko eiluciu 0 Grazi diena\n",
      "Iveskite failo pavadinima grazi diena\n",
      "Jusu tekstas issaugotas sekmingai, failo pavadinimas grazi diena\n",
      " Tekstas\n",
      "1 sveki\n",
      "2 Laba diena\n",
      "3 Grazi diena\n",
      "\n"
     ]
    }
   ],
   "source": [
    "import os\n",
    "\n",
    "main()"
   ]
  }
 ],
 "metadata": {
  "kernelspec": {
   "display_name": "Python 3",
   "language": "python",
   "name": "python3"
  },
  "language_info": {
   "codemirror_mode": {
    "name": "ipython",
    "version": 3
   },
   "file_extension": ".py",
   "mimetype": "text/x-python",
   "name": "python",
   "nbconvert_exporter": "python",
   "pygments_lexer": "ipython3",
   "version": "3.8.5"
  }
 },
 "nbformat": 4,
 "nbformat_minor": 4
}
